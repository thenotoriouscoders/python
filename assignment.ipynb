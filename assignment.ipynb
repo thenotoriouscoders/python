{
  "nbformat": 4,
  "nbformat_minor": 0,
  "metadata": {
    "colab": {
      "name": "assignment.ipynb",
      "provenance": [],
      "collapsed_sections": []
    },
    "kernelspec": {
      "name": "python3",
      "display_name": "Python 3"
    },
    "language_info": {
      "name": "python"
    }
  },
  "cells": [
    {
      "cell_type": "markdown",
      "metadata": {
        "id": "-jqynVk7oBrO"
      },
      "source": [
        "A name that is used to denote something or a value is called a variable. In python, variables can be declared and values can be assigned to it as follows\n",
        "```\n",
        "x = 2\n",
        "y = 5\n",
        "xy = 'Hey'\n",
        "print (x+y, xy)\n",
        "```\n",
        "Output:\n",
        "```\n",
        " 7  'Hey'\n",
        "```\n"
      ]
    },
    {
      "cell_type": "code",
      "metadata": {
        "colab": {
          "base_uri": "https://localhost:8080/"
        },
        "id": "Ep2zCtABnBWM",
        "outputId": "ae0f5221-dfdd-4789-9b0f-fdcd79acac5c"
      },
      "source": [
        "x = 2\n",
        "y = 5\n",
        "xy = 'Hey'\n",
        "print (x+y, xy)"
      ],
      "execution_count": 1,
      "outputs": [
        {
          "output_type": "stream",
          "name": "stdout",
          "text": [
            "7 Hey\n"
          ]
        }
      ]
    },
    {
      "cell_type": "markdown",
      "metadata": {
        "id": "hhQaRLH3oPLN"
      },
      "source": [
        "The print statement can be used in the following different ways :\n",
        "\n",
        "```\n",
        "- print \"Hello World\"\n",
        "- print \"Hello\", <Variable Containing the String>\n",
        "- print \"Hello\" + <Variable Containing the String>\n",
        "- print \"Hello %s\" % <variable containing the string>\n",
        "```"
      ]
    },
    {
      "cell_type": "markdown",
      "metadata": {
        "id": "H4PZP80Nokq1"
      },
      "source": [
        "Code:\n",
        "\n",
        "```\n",
        "print(\"\"\"My name is Rajath Kumar M.P.\n",
        "\n",
        "I love Python.\"\"\")\n",
        "```\n",
        "\n",
        "Output:\n",
        "\n",
        "```\n",
        "My name is Rajath Kumar M.P.\n",
        "\n",
        "I love Python.\n",
        "\n"
      ]
    },
    {
      "cell_type": "code",
      "metadata": {
        "colab": {
          "base_uri": "https://localhost:8080/"
        },
        "id": "UrXOMFRYoNkr",
        "outputId": "d4737e93-70bb-453d-c392-0fb1c5340fc5"
      },
      "source": [
        "print(\"\"\"My name is Rajath Kumar M.P.\n",
        "\n",
        "I love Python.\"\"\")"
      ],
      "execution_count": 2,
      "outputs": [
        {
          "output_type": "stream",
          "name": "stdout",
          "text": [
            "My name is Rajath Kumar M.P.\n",
            "\n",
            "I love Python.\n"
          ]
        }
      ]
    },
    {
      "cell_type": "markdown",
      "metadata": {
        "id": "yeW_qAB3o2jU"
      },
      "source": [
        "Code:\n",
        "\n",
        "```\n",
        "string1 = 'World'\n",
        "print('Hello', string1)\n",
        "\n",
        "string2 = '!'\n",
        "print('Hello', string1, string2)\n",
        "```\n",
        "\n",
        "Output:\n",
        "```\n",
        "\n",
        "Hello World\n",
        "Hello World !\n",
        "\n"
      ]
    },
    {
      "cell_type": "code",
      "metadata": {
        "colab": {
          "base_uri": "https://localhost:8080/"
        },
        "id": "Ti-U5tKxouVN",
        "outputId": "1d74ad3c-9555-43cc-c8ea-664f9b7fdc5f"
      },
      "source": [
        "string1 = 'World'\n",
        "print('Hello', string1)\n",
        "\n",
        "string2 = '!'\n",
        "print('Hello', string1, string2)"
      ],
      "execution_count": 3,
      "outputs": [
        {
          "output_type": "stream",
          "name": "stdout",
          "text": [
            "Hello World\n",
            "Hello World !\n"
          ]
        }
      ]
    },
    {
      "cell_type": "markdown",
      "metadata": {
        "id": "kHNlv5Ypo-pF"
      },
      "source": [
        "Code:\n",
        "```\n",
        "print('Hello' + string1 + string2)\n",
        "```\n",
        "\n",
        "Output:\n",
        "\n",
        "```\n",
        "HelloWorld!\n",
        "\n"
      ]
    },
    {
      "cell_type": "code",
      "metadata": {
        "colab": {
          "base_uri": "https://localhost:8080/"
        },
        "id": "VMKotVTGo7M_",
        "outputId": "70daf6f9-d987-4591-985c-c390e3ee8748"
      },
      "source": [
        "print('Hello' + string1 + string2)"
      ],
      "execution_count": 7,
      "outputs": [
        {
          "output_type": "stream",
          "name": "stdout",
          "text": [
            "HelloWorld!\n"
          ]
        }
      ]
    },
    {
      "cell_type": "markdown",
      "metadata": {
        "id": "KUjLGTu_pB8K"
      },
      "source": [
        "Code:\n",
        "```\n",
        "print(\"Jan\\nFeb\\nMar\\nApr\\nMay\\nJun\\nJul\\nAug\")\n",
        "```\n",
        "Output:\n",
        "\n",
        "```\n",
        "Jan\n",
        "Feb\n",
        "Mar\n",
        "Apr\n",
        "May\n",
        "Jun\n",
        "Jul\n",
        "Aug\n",
        "\n"
      ]
    },
    {
      "cell_type": "code",
      "metadata": {
        "colab": {
          "base_uri": "https://localhost:8080/"
        },
        "id": "J9g106Jgpish",
        "outputId": "8cbce33c-944e-4077-edc3-03342b8df6dd"
      },
      "source": [
        "print(\"Jan\\nFeb\\nMar\\nApr\\nMay\\nJun\\nJul\\nAug\")"
      ],
      "execution_count": 8,
      "outputs": [
        {
          "output_type": "stream",
          "name": "stdout",
          "text": [
            "Jan\n",
            "Feb\n",
            "Mar\n",
            "Apr\n",
            "May\n",
            "Jun\n",
            "Jul\n",
            "Aug\n"
          ]
        }
      ]
    },
    {
      "cell_type": "markdown",
      "metadata": {
        "id": "gZccnw6LpEk7"
      },
      "source": [
        "Code:\n",
        "```\n",
        "print(\"I want \\\\n to be printed.\")\n",
        "```\n",
        "Output:\n",
        "\n",
        "```\n",
        "I want \\n to be printed.\n",
        "\n",
        "\n",
        "\n"
      ]
    },
    {
      "cell_type": "code",
      "metadata": {
        "colab": {
          "base_uri": "https://localhost:8080/"
        },
        "id": "Av6xnQICpVxl",
        "outputId": "b44082bb-5f21-4ec3-e9b3-6b04aed2d510"
      },
      "source": [
        "print(\"I want \\\\n to be printed.\")"
      ],
      "execution_count": 6,
      "outputs": [
        {
          "output_type": "stream",
          "name": "stdout",
          "text": [
            "I want \\n to be printed.\n"
          ]
        }
      ]
    },
    {
      "cell_type": "markdown",
      "metadata": {
        "id": "OUZpg24cpG4z"
      },
      "source": [
        "Code:\n",
        "```\n",
        "x = 10\n",
        "print(type(x))\n",
        " \n",
        "s = 'abc'\n",
        "print(type(s))\n",
        " \n",
        "value= True\n",
        "print(type(value))\n",
        "\n",
        "percent=90.00\n",
        "type(percent)\n",
        "```\n",
        "\n",
        "Output:\n",
        "\n",
        "```\n",
        "<class 'int'>\n",
        "<class 'str'>\n",
        "<class 'bool'>\n",
        "\n",
        "\n"
      ]
    },
    {
      "cell_type": "code",
      "metadata": {
        "colab": {
          "base_uri": "https://localhost:8080/"
        },
        "id": "a3JZBjlRpMGD",
        "outputId": "c82fda38-a169-4aca-bf2e-e2b8ee3d9120"
      },
      "source": [
        "x = 10\n",
        "print(type(x))\n",
        "\n",
        "s = 'abc'\n",
        "print(type(s))\n",
        "\n",
        "value= True\n",
        "print(type(value))\n",
        "\n",
        "percent=90.00\n",
        "print(type(percent))"
      ],
      "execution_count": 5,
      "outputs": [
        {
          "output_type": "stream",
          "name": "stdout",
          "text": [
            "<class 'int'>\n",
            "<class 'str'>\n",
            "<class 'bool'>\n",
            "<class 'float'>\n"
          ]
        }
      ]
    },
    {
      "cell_type": "code",
      "metadata": {
        "id": "905Qlt6jpOIl"
      },
      "source": [
        ""
      ],
      "execution_count": null,
      "outputs": []
    }
  ]
}